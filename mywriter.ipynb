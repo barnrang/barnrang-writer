{
 "cells": [
  {
   "cell_type": "code",
   "execution_count": 25,
   "metadata": {
    "scrolled": false
   },
   "outputs": [
    {
     "name": "stdout",
     "output_type": "stream",
     "text": [
      "The autoreload extension is already loaded. To reload it, use:\n",
      "  %reload_ext autoreload\n"
     ]
    }
   ],
   "source": [
    "import numpy as np\n",
    "import tensorflow as tf\n",
    "import string\n",
    "import unicodedata\n",
    "import helper.data_util as dt\n",
    "%load_ext autoreload\n",
    "%autoreload 2"
   ]
  },
  {
   "cell_type": "code",
   "execution_count": null,
   "metadata": {
    "collapsed": true
   },
   "outputs": [],
   "source": [
    "#setup\n",
    "all_char = string.ascii_letters + ' ,.;:\\'\"%()[]'\n",
    "n_char = len(all_char)"
   ]
  },
  {
   "cell_type": "code",
   "execution_count": null,
   "metadata": {
    "collapsed": true
   },
   "outputs": [],
   "source": [
    "class RNN(object):\n",
    "    \"\"\"docstring for RNN.\"\"\"\n",
    "    def __init__(self, num_layers = 2, size):\n",
    "        super(RNN, self).__init__()\n",
    "        def lstm_cell():\n",
    "            return lstm = tf.contrib.rnn.BasicLSTMCell(size)\n",
    "        if num_layers > 1:\n",
    "            self.stacked_lstm = tf.contrib.rnn.MultiRNNCell([lstm_cell() for _ in range(num_layers)])\n",
    "        self.loss= tf.Variable(0, tf.float32)\n",
    "    def forward(input_val, output_val, step=None):\n",
    "        g_input = 0 #ground thruth input\n",
    "        state = tf.zeros_like(input_val)\n",
    "        if step is None:\n",
    "            step = tf.cast(tf.shape(input_val)[0],tf.int16)\n",
    "        for i in range(step):\n",
    "            output, state = self.stacked_lstm(input_val[i], state)\n",
    "        \n",
    "    def backward():\n",
    "        "
   ]
  },
  {
   "cell_type": "code",
   "execution_count": 33,
   "metadata": {},
   "outputs": [],
   "source": [
    "txt_dat = dt.textData()"
   ]
  },
  {
   "cell_type": "code",
   "execution_count": 34,
   "metadata": {
    "scrolled": true
   },
   "outputs": [],
   "source": [
    "txt_dat.load_data('resource')"
   ]
  },
  {
   "cell_type": "code",
   "execution_count": 36,
   "metadata": {},
   "outputs": [
    {
     "data": {
      "text/plain": [
       "'Netiwit and the Rationalization of New Age\\n\\n\\tIn Thailand, there were myriad of problem that people encountered vary in many areas such as politics, guerilla group,or economics. Ridiculously, Thailand is country that was considered as undeveloped country by the outside world since the historical age (King Rama 5). At that time, the slavery and trafficking were normal practice of hierarchy, mostly thought that. Thank to the westernization made our country realizing how outdated we were and it began to be more developed, more western. Not only outdated tradition was vanished, many elegant cultures were one by one being forsaken and those conservatives thus arise with the idea of nationalism. This simple persistent problem is not an easy one to tackle with because it is involving with many actors in society, for example, elder from the past generation and radical teenage from the new generation and so on. Not only in Thailand but a lot of countries have this kind of problem between different generation people, especially in the countries with principle of “following the elder”. In the other pointview, the new generation, of course, would receive a better education notably science and logic. Similar to the Renaissance period, adolescence rather believe in logic rather than the old unexplainable, in their pointview, culture and here where conflict is occurred.\\n\\t\\n\\tIn this context, we will focus on the most radical movement nowadays in my country, the boy from Chulalongkorn university named “Netiwit”. He is one of the most youthful and powerful activist trying to change many things such as education system, political system which he risked himself many times, or even the society’s “norm”; in the other word, social structure, limitation. He is evenly more active for any activity entreating for liberty or freedom to act, agency. Therefore, the very first incidents that made him well known arose from “lack of freedom” problem.\\n\\nThailand is a country really serious about its properties, to be said, high degree of nationalism. Every morning, chore the anthem is norm for everyplace, standing still and singing. One day, “I don’t understand what the meaning of our flag and it is completely nonsense, I felt the nausea every time I sang the anthem” he did complain on the Facebook. Many people, thus, opposed regarding to his disdaining post. Another incident was the father festival which everyone rode their bike wearing yellow shirt whilst Netiwit, the only one, wore red shirt swinging Thai flag. That picture was attached on his post and widely spreaded within short time caused big argument throughout the social network again. Consequently, it was became a dispute between “what can we do” and “what we ought to do”. In the other aspect, what Netiwit did act is just what people thought but could not show it due to social structure or norm. So can we convict him or not is tough question.\\n\\nNetiwit is rather than “antisocial” but “antisocial norm” activist and it was questionable that he did it to call attention so let see the next case of him. “SOTUS” is a system in university where freshmen will be welcomed by the older seniors through some activity for 3 to 4 days duration. However, instead of being an enjoyable moment it became a trauma moment for some freshmen who cannot withstand the pressure and activities. Some abusing activities are over physical punishment, inebriating or sexual harassment and vice versa. After he was promoted to be the university student committee, therefore, Netiwit made a speech several times concerning SOTUS and absolutely opposed those abusing SOTUS. He debated several within the university student, other university student and even professor which he claimed to be the advocation of the SOTUS system. despite both verbal and physical threat from many positions, he never gave up and kept fighting to the righteous SOTUS and, after a while, the ANTI-SOTUS group was established. Furthermore, after he became the student committee, he also active on various controversial topics like limitation for punishment of improperly wearing school uniform which actually he defied the idea of student uniform as an outdated culture.\\n\\nUsually in Thai culture many kind of religious rituals or honoring ceremonies are considered as “should”. However, as mentioned above, new generation people do not really understand the purpose of performing those complex ritual and not willful to do it. In most case the elder like parents or teachers end up considering they are impatient. In reality, the new generation children and adolescence changed a lot, they think that they understand more about the world due to the development of science and technologies and do not give attention seriously about traditional culture. So, here come the end of Netiwit student committee position.\\n\\nIn 2016, 3rd August, was the day of declaration for Chulalongkorn university, in the other word, every students will show their respect in front of the statue of King Rama 5 and declare themselves as Chulalongkorn University student. Unfortunately, the weather was overcast but because it was considered an important day so the activity is not cancelled and proceeded normally. In between the ceremony, there was rainfall and teacher provided raincoat and plastic bag in advance for student to cover themselves. In the verge of ending, Netiwit friend, one of the student committee, suddenly walked out of the line and within a second he was ceased by the teacher with violence.\\n\\nNetiwit claimed that teacher, Prof.Bancha, said that the ritual going to be just standing and praying in the case of rain which normally everyone need to kneel and pray. However, in the event day, it was that the ritual was commenced normally and carelessly made the students exposed to the rain which risk for sickness or flu, Netiwit friend claimed. Therefore, he cannot withstand the fact that everyone need to suffer the rain and slip off the line. “We ordered the activity as our accented policy but the student committee did not comply” Prof.Buncha claimed, “And the teacher that ceased the student stressed too much and was admitted into the hospital”.\\n\\nThe controversy is prevalently discussed to the online social world and became a hot topic throughout the country. There are some people claimed that the ritual was actually softened and there was no “kneeling” as Netiwit said; in the other word, Netiwit was trying to make things up and has waited for someone to fall in his trap. Consequently, Netiwit advocator did not stay still and argued back. To sum up, the case ended up at the debate between “policy and agreement” of both side which barely showed any clear sentence from, not only both sides, the medias. Another problem is that everyone did not claim in the same way and cause discrepancy which cannot easily judge or it became, well known problem, ‘Rashomon’ problem. \\nThe aftermath was that Netiwit was withdrawn from his student committee by 2 statements\\nNetiwit did occupy official place without permission\\nThe act of leaving the line during the ceremony is an unforgivable improper behavior.\\n\\tby these statements, Netiwit and his committee behavior scores are deduced by 25 points.\\nHowever, Netiwit asserted that his fight has not ended and he will plead with the university.\\n\\n\\tNetiwit action raised countless arguments about the freedom of people nowadays, specially for the reign of junta. His actions from the very beginning is absolutely careless and “high ego” considered by many people. Nevertheless, there was going to be a group which have seen that action is freedom, did not annoy anyone or disturb. Thank to the latter movement of him and the conflict he involved, the perspective toward Netiwit became better until the last incident before he was withdrawn from the student committee position. After that incident, the dispute erupted about many things regarding to the situation. However, there became 2 clearly separated group between that is opposing the ceremony and thinking it was nonsense whilst the other group his action filthing the beautiful traditional culture. Therefore, Netiwit is an interesting new generation activist but with “gray” tone, not a hero though not a villain.\\n\\n\\tActually, it is not that there only Netiwit who is straightforward and rationalized, but many other bigger position activists, notably in politic, appear on the social network. Prof. Jeum, as an alias, is another example for rationalized politic activist. Due to his rationality and straightforwardness, he usually poked into the weak point of Thai norm such as royal lineage (once he discussed publicly about the king’s assassination) caused large scale anger on the internet. Finally, he was exiled from the country.\\n\\nRight now it is not a big conflict which actually was only internal problem  in the university or the online world. However, the consequence of the conflict intensified the awareness of “freedom” in contrast with those nationalism. As a new generation of humanity, we should come up with a new consensus how we can stay without deterring the others right and freedom, and actually what is the limitation of freedom in people aspect and also deal with the social norm. It is kind of problem that “norm” is the tendency that people assume to be “should do” while someone think conversely. Rather than arguing each others and end up throwing bad words fourth and back, we should calm ourselves down and make a peaceful talk. The problem subtlely lying there is that people are too assertive and ignore the others which lead to misunderstanding so that is why we need a dialog to talk openly, especially between the group with “rationalized” idea and the “conservative” group which is the matter of the conflict in this context.\\n'"
      ]
     },
     "execution_count": 36,
     "metadata": {},
     "output_type": "execute_result"
    }
   ],
   "source": [
    "txt_dat.data[0]"
   ]
  },
  {
   "cell_type": "code",
   "execution_count": 19,
   "metadata": {
    "scrolled": false
   },
   "outputs": [
    {
     "data": {
      "text/plain": [
       "'abcdefghijklmnopqrstuvwxyzABCDEFGHIJKLMNOPQRSTUVWXYZ ,.;:\\'\"%()[]'"
      ]
     },
     "execution_count": 19,
     "metadata": {},
     "output_type": "execute_result"
    }
   ],
   "source": [
    "all_char"
   ]
  },
  {
   "cell_type": "code",
   "execution_count": null,
   "metadata": {
    "collapsed": true
   },
   "outputs": [],
   "source": [
    "lstm = tf.contrib.layers.lstm()"
   ]
  }
 ],
 "metadata": {
  "kernelspec": {
   "display_name": "Python [conda env:chatbot]",
   "language": "python",
   "name": "conda-env-chatbot-py"
  },
  "language_info": {
   "codemirror_mode": {
    "name": "ipython",
    "version": 3
   },
   "file_extension": ".py",
   "mimetype": "text/x-python",
   "name": "python",
   "nbconvert_exporter": "python",
   "pygments_lexer": "ipython3",
   "version": "3.5.3"
  }
 },
 "nbformat": 4,
 "nbformat_minor": 2
}
